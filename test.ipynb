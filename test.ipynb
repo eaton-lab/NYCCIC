{
 "cells": [
  {
   "cell_type": "code",
   "execution_count": 2,
   "metadata": {
    "scrolled": true
   },
   "outputs": [],
   "source": [
    "import NYCCIC"
   ]
  },
  {
   "cell_type": "code",
   "execution_count": 8,
   "metadata": {},
   "outputs": [],
   "source": [
    "dataclass = NYCCIC.Data(\"HOSPRT\")"
   ]
  },
  {
   "cell_type": "code",
   "execution_count": 19,
   "metadata": {},
   "outputs": [],
   "source": [
    "df_clean = dataclass.get_all_data()\n"
   ]
  },
  {
   "cell_type": "code",
   "execution_count": 20,
   "metadata": {},
   "outputs": [],
   "source": [
    "trendclass = NYCCIC.Trend(\"HOSPRT\", '11201,10001,10002')"
   ]
  },
  {
   "cell_type": "code",
   "execution_count": 21,
   "metadata": {},
   "outputs": [],
   "source": [
    "graph = trendclass.trendmap()"
   ]
  },
  {
   "cell_type": "code",
   "execution_count": 22,
   "metadata": {
    "scrolled": true
   },
   "outputs": [
    {
     "data": {
      "text/html": [
       "\n",
       "<div id=\"altair-viz-de37db5d392d4bf3ad0a85d7032c6245\"></div>\n",
       "<script type=\"text/javascript\">\n",
       "  (function(spec, embedOpt){\n",
       "    let outputDiv = document.currentScript.previousElementSibling;\n",
       "    if (outputDiv.id !== \"altair-viz-de37db5d392d4bf3ad0a85d7032c6245\") {\n",
       "      outputDiv = document.getElementById(\"altair-viz-de37db5d392d4bf3ad0a85d7032c6245\");\n",
       "    }\n",
       "    const paths = {\n",
       "      \"vega\": \"https://cdn.jsdelivr.net/npm//vega@5?noext\",\n",
       "      \"vega-lib\": \"https://cdn.jsdelivr.net/npm//vega-lib?noext\",\n",
       "      \"vega-lite\": \"https://cdn.jsdelivr.net/npm//vega-lite@4.8.1?noext\",\n",
       "      \"vega-embed\": \"https://cdn.jsdelivr.net/npm//vega-embed@6?noext\",\n",
       "    };\n",
       "\n",
       "    function loadScript(lib) {\n",
       "      return new Promise(function(resolve, reject) {\n",
       "        var s = document.createElement('script');\n",
       "        s.src = paths[lib];\n",
       "        s.async = true;\n",
       "        s.onload = () => resolve(paths[lib]);\n",
       "        s.onerror = () => reject(`Error loading script: ${paths[lib]}`);\n",
       "        document.getElementsByTagName(\"head\")[0].appendChild(s);\n",
       "      });\n",
       "    }\n",
       "\n",
       "    function showError(err) {\n",
       "      outputDiv.innerHTML = `<div class=\"error\" style=\"color:red;\">${err}</div>`;\n",
       "      throw err;\n",
       "    }\n",
       "\n",
       "    function displayChart(vegaEmbed) {\n",
       "      vegaEmbed(outputDiv, spec, embedOpt)\n",
       "        .catch(err => showError(`Javascript Error: ${err.message}<br>This usually means there's a typo in your chart specification. See the javascript console for the full traceback.`));\n",
       "    }\n",
       "\n",
       "    if(typeof define === \"function\" && define.amd) {\n",
       "      requirejs.config({paths});\n",
       "      require([\"vega-embed\"], displayChart, err => showError(`Error loading script: ${err.message}`));\n",
       "    } else if (typeof vegaEmbed === \"function\") {\n",
       "      displayChart(vegaEmbed);\n",
       "    } else {\n",
       "      loadScript(\"vega\")\n",
       "        .then(() => loadScript(\"vega-lite\"))\n",
       "        .then(() => loadScript(\"vega-embed\"))\n",
       "        .catch(showError)\n",
       "        .then(() => displayChart(vegaEmbed));\n",
       "    }\n",
       "  })({\"config\": {\"view\": {\"continuousWidth\": 400, \"continuousHeight\": 300}}, \"vconcat\": [{\"mark\": \"circle\", \"encoding\": {\"color\": {\"condition\": {\"type\": \"nominal\", \"field\": \"Zipcode\", \"selection\": \"selector010\"}, \"value\": \"lightgray\"}, \"size\": {\"type\": \"quantitative\", \"field\": \"Case\", \"legend\": {\"title\": \"Case Per 100,000 People\"}, \"scale\": {\"range\": [0, 1000]}}, \"tooltip\": [{\"type\": \"nominal\", \"field\": \"Zipcode\"}, {\"type\": \"nominal\", \"field\": \"Date\"}, {\"type\": \"nominal\", \"field\": \"Case\"}], \"x\": {\"type\": \"ordinal\", \"field\": \"Date\"}, \"y\": {\"type\": \"nominal\", \"field\": \"Zipcode\"}}, \"height\": 300, \"selection\": {\"selector010\": {\"type\": \"interval\"}, \"selector011\": {\"type\": \"interval\", \"bind\": \"scales\", \"encodings\": [\"x\", \"y\"]}}, \"width\": 1000}, {\"mark\": \"bar\", \"encoding\": {\"color\": {\"type\": \"nominal\", \"field\": \"Zipcode\"}, \"tooltip\": [{\"type\": \"quantitative\", \"aggregate\": \"sum\", \"field\": \"Case\"}], \"x\": {\"type\": \"quantitative\", \"aggregate\": \"sum\", \"field\": \"Case\"}, \"y\": {\"type\": \"nominal\", \"field\": \"Zipcode\"}}, \"selection\": {\"selector012\": {\"type\": \"interval\", \"bind\": \"scales\", \"encodings\": [\"x\", \"y\"]}}, \"transform\": [{\"filter\": {\"selection\": \"selector010\"}}], \"width\": 1000}], \"data\": {\"name\": \"data-26300cd182e57b537541a6236f67e8f8\"}, \"$schema\": \"https://vega.github.io/schema/vega-lite/v4.8.1.json\", \"datasets\": {\"data-26300cd182e57b537541a6236f67e8f8\": [{\"Date\": \"2020-3\", \"Zipcode\": \"10001\", \"Case\": \"57.9\"}, {\"Date\": \"2020-4\", \"Zipcode\": \"10001\", \"Case\": \"188.3\"}, {\"Date\": \"2020-5\", \"Zipcode\": \"10001\", \"Case\": \"54.3\"}, {\"Date\": \"2020-6\", \"Zipcode\": \"10001\", \"Case\": \"7.2\"}, {\"Date\": \"2020-7\", \"Zipcode\": \"10001\", \"Case\": \"14.5\"}, {\"Date\": \"2020-8\", \"Zipcode\": \"10001\", \"Case\": \"3.6\"}, {\"Date\": \"2020-9\", \"Zipcode\": \"10001\", \"Case\": \"3.6\"}, {\"Date\": \"2020-10\", \"Zipcode\": \"10001\", \"Case\": \"10.9\"}, {\"Date\": \"2020-11\", \"Zipcode\": \"10001\", \"Case\": \"10.9\"}, {\"Date\": \"2020-12\", \"Zipcode\": \"10001\", \"Case\": \"54.3\"}, {\"Date\": \"2021-1\", \"Zipcode\": \"10001\", \"Case\": \"90.5\"}, {\"Date\": \"2021-2\", \"Zipcode\": \"10001\", \"Case\": \"65.2\"}, {\"Date\": \"2020-3\", \"Zipcode\": \"10002\", \"Case\": \"223.0\"}, {\"Date\": \"2020-4\", \"Zipcode\": \"10002\", \"Case\": \"285.4\"}, {\"Date\": \"2020-5\", \"Zipcode\": \"10002\", \"Case\": \"43.8\"}, {\"Date\": \"2020-6\", \"Zipcode\": \"10002\", \"Case\": \"13.3\"}, {\"Date\": \"2020-7\", \"Zipcode\": \"10002\", \"Case\": \"17.3\"}, {\"Date\": \"2020-8\", \"Zipcode\": \"10002\", \"Case\": \"11.9\"}, {\"Date\": \"2020-9\", \"Zipcode\": \"10002\", \"Case\": \"10.6\"}, {\"Date\": \"2020-10\", \"Zipcode\": \"10002\", \"Case\": \"9.3\"}, {\"Date\": \"2020-11\", \"Zipcode\": \"10002\", \"Case\": \"34.5\"}, {\"Date\": \"2020-12\", \"Zipcode\": \"10002\", \"Case\": \"155.3\"}, {\"Date\": \"2021-1\", \"Zipcode\": \"10002\", \"Case\": \"163.3\"}, {\"Date\": \"2021-2\", \"Zipcode\": \"10002\", \"Case\": \"134.1\"}, {\"Date\": \"2020-3\", \"Zipcode\": \"11201\", \"Case\": \"112.4\"}, {\"Date\": \"2020-4\", \"Zipcode\": \"11201\", \"Case\": \"175.0\"}, {\"Date\": \"2020-5\", \"Zipcode\": \"11201\", \"Case\": \"30.5\"}, {\"Date\": \"2020-6\", \"Zipcode\": \"11201\", \"Case\": \"8.0\"}, {\"Date\": \"2020-7\", \"Zipcode\": \"11201\", \"Case\": \"6.4\"}, {\"Date\": \"2020-8\", \"Zipcode\": \"11201\", \"Case\": null}, {\"Date\": \"2020-9\", \"Zipcode\": \"11201\", \"Case\": \"1.6\"}, {\"Date\": \"2020-10\", \"Zipcode\": \"11201\", \"Case\": \"6.4\"}, {\"Date\": \"2020-11\", \"Zipcode\": \"11201\", \"Case\": \"11.2\"}, {\"Date\": \"2020-12\", \"Zipcode\": \"11201\", \"Case\": \"33.7\"}, {\"Date\": \"2021-1\", \"Zipcode\": \"11201\", \"Case\": \"43.3\"}, {\"Date\": \"2021-2\", \"Zipcode\": \"11201\", \"Case\": \"30.5\"}]}}, {\"mode\": \"vega-lite\"});\n",
       "</script>"
      ],
      "text/plain": [
       "alt.VConcatChart(...)"
      ]
     },
     "execution_count": 22,
     "metadata": {},
     "output_type": "execute_result"
    }
   ],
   "source": [
    "graph "
   ]
  },
  {
   "cell_type": "code",
   "execution_count": null,
   "metadata": {},
   "outputs": [],
   "source": []
  }
 ],
 "metadata": {
  "kernelspec": {
   "display_name": "Python 3",
   "language": "python",
   "name": "python3"
  },
  "language_info": {
   "codemirror_mode": {
    "name": "ipython",
    "version": 3
   },
   "file_extension": ".py",
   "mimetype": "text/x-python",
   "name": "python",
   "nbconvert_exporter": "python",
   "pygments_lexer": "ipython3",
   "version": "3.8.3"
  }
 },
 "nbformat": 4,
 "nbformat_minor": 4
}
